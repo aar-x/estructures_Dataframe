{
  "nbformat": 4,
  "nbformat_minor": 0,
  "metadata": {
    "colab": {
      "provenance": []
    },
    "kernelspec": {
      "name": "python3",
      "display_name": "Python 3"
    },
    "language_info": {
      "name": "python"
    }
  },
  "cells": [
    {
      "cell_type": "markdown",
      "source": [
        "EX01. Descarrega el data set Airlines Delay: Airline on-time statistics and delay causes i carrega’l a un Pandas Dataframe. Explora les dades que conté, explica breument quines variables hi ha i queda’t únicament amb les columnes que consideris rellevants. Justifica la teva elecció."
      ],
      "metadata": {
        "id": "R2142RSir3fI"
      }
    },
    {
      "cell_type": "code",
      "execution_count": null,
      "metadata": {
        "id": "5nozN802qSXc"
      },
      "outputs": [],
      "source": [
        "import pandas as pd\n",
        "from tabulate import tabulate\n",
        "\n",
        "df = pd.read_csv('DelayedFlights.csv')\n",
        "print('\\nExploración de datos originales:\\n')\n",
        "print(tabulate(df.head(10), headers = 'keys', stralign=\"center\", numalign=\"right\", showindex=False))\n",
        "print('\\nExploración de columnas originales:\\n')\n",
        "print(df.info(verbose=True, show_counts=True))"
      ]
    },
    {
      "cell_type": "markdown",
      "source": [
        "Junto a la columna que mide el tiempo de retraso en la llegada, se seleccionan las columnas que indican las causas de los retrasos (las 5 últimas), y tres temporales (día de la semana, día del mes y mes), además de UniqueCarrier, que identifica la aerolínea responsable, así como la distancia de los vuelos. FlightNum y TailNum podrían ser necesarias para un análisis más detallado, pero no de forma general. Year se descarta porque es siempre 2008, las variables relacionadas con el retraso o tiempos en pista porque de alguna manera ya están implícitas en ArrDelay, las cancelaciones o desvíos de vuelos, aunque podrían ser útiles de manera complementaria, no nos sirven para estudiar los retrasos.\n",
        "\n",
        "+ Unnamed: 0: Índice o una columna de identificadores.\n",
        "\n",
        "Year: Año del vuelo.\n",
        "\n",
        "+ Month: Mes del vuelo.\n",
        "\n",
        "+ DayofMonth: Día del mes en que ocurrió el vuelo.\n",
        "\n",
        "+ DayOfWeek: Día de la semana en que ocurrió el vuelo.\n",
        "\n",
        "DepTime: Hora real de salida del vuelo (en formato 24 horas).\n",
        "\n",
        "CRSDepTime: La hora de salida programada (\"Computer Reservation System\") del vuelo.\n",
        "\n",
        "ArrTime: La hora real de llegada del vuelo.\n",
        "\n",
        "CRSArrTime: La hora de llegada programada del vuelo.\n",
        "\n",
        "+ UniqueCarrier: Un código de identificación para la aerolínea que operó el vuelo.\n",
        "\n",
        "FlightNum: El número de vuelo.\n",
        "\n",
        "TailNum: Número de registro de la aeronave que operó el vuelo.\n",
        "\n",
        "ActualElapsedTime: El tiempo total que tomó el vuelo, desde que el avión inicia su movimiento hasta que vuelve a estar detenido tras aterrizar (en minutos).\n",
        "\n",
        "CRSElapsedTime: El tiempo de vuelo esperado o programado, de acuerdo con las reservas del sistema (en minutos).\n",
        "\n",
        "AirTime: La cantidad de tiempo que el avión estuvo en el aire (en minutos).\n",
        "\n",
        "+ ArrDelay: Retraso en la llegada (en minutos) calculado como la diferencia entre la hora de llegada programada y la hora real de llegada.\n",
        "\n",
        "DepDelay: Retraso en la salida (en minutos) calculado como la diferencia entre la hora de salida programada y la hora real de salida.\n",
        "\n",
        "Origin: Código del aeropuerto de origen.\n",
        "\n",
        "Dest: Código del aeropuerto de destino.\n",
        "\n",
        "+ Distance: Distancia entre los aeropuertos de origen y destino.\n",
        "\n",
        "TaxiIn: Tiempo que tardó el avión en llegar a la puerta después de aterrizar.\n",
        "\n",
        "TaxiOut: Tiempo que tardó el avión en despegar desde la puerta.\n",
        "\n",
        "Cancelled: Indicador de si el vuelo fue cancelado (1 para cancelado y 0 para no cancelado).\n",
        "\n",
        "CancellationCode: Código que indica la razón de la cancelación del vuelo.\n",
        "\n",
        "Diverted: Indicador de si el vuelo fue desviado (1 para desviado y 0 para no desviado).\n",
        "\n",
        "+ CarrierDelay: Retraso (en minutos) atribuido a la aerolínea.\n",
        "\n",
        "+ WeatherDelay: Retraso causado por condiciones meteorológicas.\n",
        "\n",
        "+ NASDelay: Retraso causado por problemas del Sistema Nacional de Espacio Aéreo (NAS).\n",
        "\n",
        "+ SecurityDelay: Retraso causado por problemas de seguridad.\n",
        "\n",
        "+ LateAircraftDelay: Retraso causado por un avión que llega tarde."
      ],
      "metadata": {
        "id": "0EHock2RsjjT"
      }
    },
    {
      "cell_type": "code",
      "source": [
        "# Comprobación de valores nulos\n",
        "\n",
        "valores_nulos = df[df[['ArrDelay', 'CarrierDelay', 'WeatherDelay', 'NASDelay', 'SecurityDelay', 'LateAircraftDelay']]\n",
        "         .isnull().all(axis=1)][['ArrDelay', 'CarrierDelay', 'WeatherDelay', 'NASDelay', 'SecurityDelay',\n",
        "                                 'LateAircraftDelay', 'Diverted', 'Cancelled']].sample(15)\n",
        "print(tabulate(valores_nulos, headers = 'keys', stralign=\"center\", numalign=\"right\", showindex=False))\n",
        "print('\\n')\n",
        "print(df[((df['ArrDelay'].isnull()) & (df['Diverted'] == 0))][['ArrDelay', 'Diverted', 'Cancelled']].value_counts(dropna=False))\n",
        "print('\\n')\n",
        "print(df[df['ArrDelay'].isnull()][['ArrDelay', 'Diverted', 'Cancelled']].value_counts(dropna=False))\n",
        "print('\\n')\n",
        "print(df[((df['ArrDelay'].isnull()) & (df['Diverted'] == 0) & (df['Cancelled'] == 0))][['ArrDelay', 'Diverted', 'Cancelled']])"
      ],
      "metadata": {
        "id": "VLW9a0744498"
      },
      "execution_count": null,
      "outputs": []
    },
    {
      "cell_type": "markdown",
      "source": [
        "En la primera tabla vemos como los vuelos sin información de retrasos parecen coincidir con aquellos que o bien han sido desviados o bien han sido cancelados.\n",
        "En la segunda tabla comprobamos como todos los vuelos sin información sobre retrasos (valores nulos) que no han sido desviados (diverted = 0) coinciden con vuelos cancelados (cancelled = 1), de otro modo tendríamos una fila para cancelled = 0.\n",
        "Y efectivamente en la última tabla vemos el conteo de vuelos con retrasos nulos, que o bien fueron desviados (7754) o bien fueron cancelados (633).\n",
        "Finalmente comprobamos como no hay ningún vuelo sin información de retrasos que no fuera desviado o cancelado, al obtener un dataframe vacío (Empty DataFrame)."
      ],
      "metadata": {
        "id": "1LQS1HFw4-bs"
      }
    },
    {
      "cell_type": "code",
      "source": [
        "df = df[['ArrDelay', 'CarrierDelay', 'WeatherDelay', 'NASDelay', 'SecurityDelay', 'LateAircraftDelay', 'Distance','Month', 'DayOfWeek', 'DayofMonth', 'UniqueCarrier', 'AirTime', 'Cancelled', 'Diverted']].sample(200000)\n",
        "df = df[df['ArrDelay'].notnull()]\n",
        "df.reset_index(drop=True, inplace=True)\n",
        "print('\\nColumnas seleccionadas:\\n')\n",
        "print(tabulate(df.info(verbose=True, show_counts=True)))"
      ],
      "metadata": {
        "id": "IL7R0Y4U6v-f"
      },
      "execution_count": null,
      "outputs": []
    },
    {
      "cell_type": "markdown",
      "source": [
        "Seleccionamos una muestra de 200.000 registros y eliminamos todos aquellos que no tienen información sobre el retraso (ArrDelay), en tanto ya sabemos que en todos los casos se explica por un desvío o cancelación del vuelo, y por lo tanto no tendría sentido utilizar esos valores ni modificarlos de ninguna manera."
      ],
      "metadata": {
        "id": "A7icKu4ZN5Hz"
      }
    },
    {
      "cell_type": "markdown",
      "source": [
        "EX02_A. Resumeix estadísticament el dataset i les columnes d’interès. Fes una anàlisi estadístic del que consideris rellevant."
      ],
      "metadata": {
        "id": "ZM5BT0c0stXC"
      }
    },
    {
      "cell_type": "code",
      "source": [
        "# Análisis de factores principales promediables\n",
        "\n",
        "promediables =  ['ArrDelay', 'CarrierDelay', 'WeatherDelay', 'NASDelay', 'SecurityDelay', 'LateAircraftDelay', 'Distance']\n",
        "\n",
        "print('\\nColumnas de interés promediables: centralización y dispersión\\n')\n",
        "pd.set_option('display.max_columns', 10)\n",
        "print(df[promediables].describe().round(2))\n",
        "\n",
        "# Comprobación de retrasos más repetidos\n",
        "\n",
        "print('\\nFrecuencias absolutas de los retrasos:')\n",
        "print('\\n'+str(df['ArrDelay'].value_counts())+'\\n')"
      ],
      "metadata": {
        "colab": {
          "base_uri": "https://localhost:8080/"
        },
        "id": "rzc7Pi_Tqr-W",
        "outputId": "75be40e4-ac8e-496c-fa74-3e803b043709"
      },
      "execution_count": 90,
      "outputs": [
        {
          "output_type": "stream",
          "name": "stdout",
          "text": [
            "\n",
            "Columnas de interés promediables: centralización y dispersión\n",
            "\n",
            "        ArrDelay  CarrierDelay  WeatherDelay   NASDelay  SecurityDelay  \\\n",
            "count  199108.00     128680.00     128680.00  128680.00      128680.00   \n",
            "mean       42.24         19.22          3.65      15.10           0.09   \n",
            "std        56.94         43.58         21.38      34.23           2.18   \n",
            "min       -62.00          0.00          0.00       0.00           0.00   \n",
            "25%         9.00          0.00          0.00       0.00           0.00   \n",
            "50%        24.00          2.00          0.00       2.00           0.00   \n",
            "75%        56.00         21.00          0.00      15.00           0.00   \n",
            "max      1583.00       1552.00        878.00    1357.00         254.00   \n",
            "\n",
            "       LateAircraftDelay   Distance  \n",
            "count          128680.00  199108.00  \n",
            "mean               25.35     765.33  \n",
            "std                42.28     576.87  \n",
            "min                 0.00      24.00  \n",
            "25%                 0.00     338.00  \n",
            "50%                 8.00     606.00  \n",
            "75%                33.00     997.00  \n",
            "max               994.00    4962.00  \n",
            "\n",
            "Frecuencias absolutas de los retrasos:\n",
            "\n",
            "10.0      3763\n",
            "12.0      3746\n",
            "9.0       3716\n",
            "8.0       3684\n",
            "11.0      3670\n",
            "          ... \n",
            "753.0        1\n",
            "1103.0       1\n",
            "644.0        1\n",
            "604.0        1\n",
            "1382.0       1\n",
            "Name: ArrDelay, Length: 683, dtype: int64\n",
            "\n"
          ]
        }
      ]
    },
    {
      "cell_type": "markdown",
      "source": [
        "Análisis estadístico del dataset y las columnas principales\n",
        "\n",
        "Lo primero es situar el dataset, hablamos de retrasos en vuelos domésticos en Estados Unidos durante el año 2008.\n",
        "\n",
        "Si observamos los parámetros de centralización y dispersión, vemos que la media de los retrasos por vuelo se sitúa en 42,13', y la mediana en 25', y al mismo tiempo los valores más repetidos están entre los 6 y los 10 minutos, siendo la desviación típica de 56.58'."
      ],
      "metadata": {
        "id": "5wFQv3moh4eo"
      }
    },
    {
      "cell_type": "code",
      "source": [
        "print('\\nCorrelaciones')\n",
        "print(df[promediables].corr().round(2))"
      ],
      "metadata": {
        "colab": {
          "base_uri": "https://localhost:8080/"
        },
        "id": "oJZ0qGihqd7u",
        "outputId": "26a18d3f-3e9d-457e-f35b-6cba3ba0f875"
      },
      "execution_count": 91,
      "outputs": [
        {
          "output_type": "stream",
          "name": "stdout",
          "text": [
            "\n",
            "Correlaciones\n",
            "                   ArrDelay  CarrierDelay  WeatherDelay  NASDelay  \\\n",
            "ArrDelay               1.00          0.50          0.26      0.39   \n",
            "CarrierDelay           0.50          1.00         -0.07     -0.12   \n",
            "WeatherDelay           0.26         -0.07          1.00     -0.00   \n",
            "NASDelay               0.39         -0.12         -0.00      1.00   \n",
            "SecurityDelay          0.00         -0.02         -0.01     -0.01   \n",
            "LateAircraftDelay      0.48         -0.18         -0.05     -0.12   \n",
            "Distance              -0.03          0.03         -0.02      0.02   \n",
            "\n",
            "                   SecurityDelay  LateAircraftDelay  Distance  \n",
            "ArrDelay                    0.00               0.48     -0.03  \n",
            "CarrierDelay               -0.02              -0.18      0.03  \n",
            "WeatherDelay               -0.01              -0.05     -0.02  \n",
            "NASDelay                   -0.01              -0.12      0.02  \n",
            "SecurityDelay               1.00              -0.02      0.01  \n",
            "LateAircraftDelay          -0.02               1.00     -0.01  \n",
            "Distance                    0.01              -0.01      1.00  \n"
          ]
        }
      ]
    },
    {
      "cell_type": "markdown",
      "source": [
        "Por otro lado se observan las correlaciones de los retrasos de los vuelos con sus causas (primera fila de correlaciones), y podemos ver que ni los retrasos por motivos de seguridad ni la distancia presentan correlación con los retrasos, por lo tanto, estos se explican, en este orden por: aerolíneas (0.50), vuelos precedentes (0.48), navegación y espacio aéreo (0.39) - correlación media en los tres casos - y condiciones climatológicas (0.27) - correlación baja."
      ],
      "metadata": {
        "id": "QW6vd_9OqiG8"
      }
    },
    {
      "cell_type": "code",
      "source": [
        "# Muestra de retrasos no promediables según marco temporal y aerolínea\n",
        "\n",
        "print('Media de retrasos según marco temporal\\n')\n",
        "print(df[['ArrDelay', 'Month']].groupby('Month').mean().round(2))\n",
        "print('\\n')\n",
        "print(df[['ArrDelay', 'DayOfWeek']].groupby('DayOfWeek').mean().round(2))\n",
        "print('\\n')\n",
        "print(df[['ArrDelay', 'DayofMonth']].groupby('DayofMonth').mean().round(2))"
      ],
      "metadata": {
        "id": "k4iE39mtz2PX",
        "colab": {
          "base_uri": "https://localhost:8080/"
        },
        "outputId": "eca1205f-c05f-4dad-a84c-37f5c07000fb"
      },
      "execution_count": 92,
      "outputs": [
        {
          "output_type": "stream",
          "name": "stdout",
          "text": [
            "Media de retrasos según marco temporal\n",
            "\n",
            "       ArrDelay\n",
            "Month          \n",
            "1         42.67\n",
            "2         45.07\n",
            "3         42.11\n",
            "4         38.42\n",
            "5         37.43\n",
            "6         45.82\n",
            "7         45.47\n",
            "8         42.59\n",
            "9         36.21\n",
            "10        31.54\n",
            "11        37.62\n",
            "12        49.93\n",
            "\n",
            "\n",
            "           ArrDelay\n",
            "DayOfWeek          \n",
            "1             42.16\n",
            "2             44.20\n",
            "3             40.21\n",
            "4             40.98\n",
            "5             43.40\n",
            "6             39.39\n",
            "7             44.63\n",
            "\n",
            "\n",
            "            ArrDelay\n",
            "DayofMonth          \n",
            "1              41.90\n",
            "2              42.12\n",
            "3              39.28\n",
            "4              48.23\n",
            "5              40.43\n",
            "6              43.39\n",
            "7              40.81\n",
            "8              45.11\n",
            "9              39.12\n",
            "10             46.85\n",
            "11             41.94\n",
            "12             39.13\n",
            "13             41.65\n",
            "14             39.97\n",
            "15             41.34\n",
            "16             40.07\n",
            "17             38.62\n",
            "18             39.26\n",
            "19             43.85\n",
            "20             41.52\n",
            "21             42.84\n",
            "22             44.79\n",
            "23             44.18\n",
            "24             39.28\n",
            "25             40.51\n",
            "26             44.36\n",
            "27             48.10\n",
            "28             40.14\n",
            "29             38.93\n",
            "30             42.17\n",
            "31             52.45\n"
          ]
        }
      ]
    },
    {
      "cell_type": "markdown",
      "source": [
        "Por otro lado tenemos los parámetros temporales, que nos muestran las medias de retrasos según el día del mes, el mes y el día de la semana. Las medias están entre 31,54' y 52,45' en todos los casos. Se observa que siempre es el último (día, día de la semana y mes), el que presenta una media de retrasos más alta y los días precedentes medias más bajas."
      ],
      "metadata": {
        "id": "xLaqZAnUBV-L"
      }
    },
    {
      "cell_type": "code",
      "source": [
        "print('\\nMedia de retrasos por aerolínea:\\n')\n",
        "print(df[['ArrDelay', 'UniqueCarrier']].groupby('UniqueCarrier').mean().round(2).sort_values(by='ArrDelay', ascending = False))\n",
        "\n",
        "# Vuelos operados por aerolínea\n",
        "\n",
        "print('\\nVuelos totales operados por aerolínea:\\n')\n",
        "print(df['UniqueCarrier'].value_counts())\n",
        "print('\\n')"
      ],
      "metadata": {
        "id": "VRhjzUGpBVV5"
      },
      "execution_count": null,
      "outputs": []
    },
    {
      "cell_type": "markdown",
      "source": [
        "Respecto a las aerolíneas, las medias de retrasos se mueven entre 23,75' - AQ (mínimo) y 55,98' - B6 (máximo). El número de vuelos no desviados o cancelados por aerolínea dentro de nuestra muestra, entre 63 (AQ) y 39119 (WN). WN, Southwest Airlines sorprende positivamente siendo la tercera con una media de retrasos más baja (29.90') y la que más vuelos opera."
      ],
      "metadata": {
        "id": "G344GX5C2VrF"
      }
    },
    {
      "cell_type": "markdown",
      "source": [
        "EX02_B. Troba quantes dades faltants hi ha per columna."
      ],
      "metadata": {
        "id": "FG_Bjqy33J-S"
      }
    },
    {
      "cell_type": "code",
      "source": [
        "print('Datos faltantes por columna:')\n",
        "print('\\n'+str(df.isnull().sum())+'\\n')\n",
        "print(df[df['CarrierDelay'].isnull()])"
      ],
      "metadata": {
        "id": "RxHPT6kR2hea"
      },
      "execution_count": null,
      "outputs": []
    },
    {
      "cell_type": "markdown",
      "source": [
        "Vemos 70202 vuelos con un retraso registrado pero sin información para las causas. Imprimimos los vuelos para explorar los datos y en las columnas seleccionadas no disponemos de ninguna variable adicional que nos permita encontrar un motivo. En cualquier caso el cálculo de las correlaciones no varía, como tampoco lo hacen los parámetros de centralización o dispersión, que descuentan los valores nulos."
      ],
      "metadata": {
        "id": "MjwRvzz-GFSS"
      }
    },
    {
      "cell_type": "markdown",
      "source": [
        "EX02_C. Crea columnes noves (velocitat mitjana del vol, si ha arribat tard o no...)."
      ],
      "metadata": {
        "id": "7oyTgKJN2Z7w"
      }
    },
    {
      "cell_type": "code",
      "source": [
        "# Velocidad media de los vuelos\n",
        "\n",
        "print('Velocidad media:\\n')\n",
        "df['AvgSpeed'] = df['Distance']/(df['AirTime']/60)\n",
        "print('\\n'+str(df[['Distance', 'AirTime', 'AvgSpeed']])+'\\n')\n",
        "\n",
        "# Retraso sí o no\n",
        "\n",
        "print('Retraso sí o no:\\n')\n",
        "df['Delay'] = df['ArrDelay'] > 0\n",
        "print(df[['ArrDelay', 'Delay']].sort_index())\n",
        "\n",
        "# Proporción del retraso sobre el total causado por la aerolínea\n",
        "\n",
        "print('\\nResponsabilidad de la aerolínea (en tanto por 1):\\n')\n",
        "df['CarrierResponsability'] = df['CarrierDelay'] / df['ArrDelay']\n",
        "df['CarrierResponsability'] = df['CarrierResponsability'].round(2)\n",
        "df['CarrierResponsability'] = pd.Series(df['CarrierResponsability'])\n",
        "print(df['CarrierResponsability'].value_counts())\n",
        "\n",
        "# Proporción del retraso sobre el total causado por gestión del espacio aéreo (NAS)\n",
        "\n",
        "print('\\nResponsabilidad del sistema nacional del espacio aéreo:\\n')\n",
        "df['NASResponsability'] = df['NASDelay'] / df['ArrDelay']\n",
        "df['NASResponsability'] = df['NASResponsability'].round(2)\n",
        "df['NASResponsability'] = pd.Series(df['NASResponsability'])\n",
        "print(df['NASResponsability'].value_counts())\n",
        "print('\\n')\n"
      ],
      "metadata": {
        "id": "mSljpCOu36rw"
      },
      "execution_count": null,
      "outputs": []
    },
    {
      "cell_type": "markdown",
      "source": [
        "EX02_D. Fes una taula de les aerolínies amb més endarreriments acumulats."
      ],
      "metadata": {
        "id": "J3rfq-eC6TxC"
      }
    },
    {
      "cell_type": "code",
      "source": [
        "# Aerolíneas con más vuelos con retraso acumulados\n",
        "\n",
        "df['Delay'] = df['ArrDelay'] > 0\n",
        "\n",
        "print('Aerolíneas con más retrasos:\\n')\n",
        "print(df[df['Delay'] == True][['UniqueCarrier']].groupby('UniqueCarrier').value_counts().sort_values(ascending = False))\n",
        "print('\\n')\n"
      ],
      "metadata": {
        "colab": {
          "base_uri": "https://localhost:8080/"
        },
        "id": "BY51nJ7o6cpw",
        "outputId": "9f30c0fe-eb80-48b1-b6d6-3052f9059c14"
      },
      "execution_count": 95,
      "outputs": [
        {
          "output_type": "stream",
          "name": "stdout",
          "text": [
            "Aerolíneas con más retrasos:\n",
            "\n",
            "UniqueCarrier\n",
            "WN    33686\n",
            "AA    17686\n",
            "MQ    13449\n",
            "UA    12843\n",
            "OO    12719\n",
            "DL    10451\n",
            "XE     9642\n",
            "US     8580\n",
            "CO     8579\n",
            "EV     7776\n",
            "NW     7375\n",
            "FL     6842\n",
            "YV     6406\n",
            "OH     5007\n",
            "B6     4957\n",
            "9E     4775\n",
            "AS     3535\n",
            "F9     2701\n",
            "HA      747\n",
            "AQ       59\n",
            "dtype: int64\n",
            "\n",
            "\n"
          ]
        }
      ]
    },
    {
      "cell_type": "markdown",
      "source": [
        "EX02_E. Quins són els vols més llargs? I els més endarrerits? Busca les rutes més llargues i les que acumulen més retards."
      ],
      "metadata": {
        "id": "OunpZu4J8Pjt"
      }
    },
    {
      "cell_type": "code",
      "source": [
        "# Vuelos más largos\n",
        "\n",
        "print('\\nVuelos más largos (valores no repetidos y en millas):\\n')\n",
        "distancias_unicas = pd.Series(df['Distance'].unique())\n",
        "distancias_unicas = distancias_unicas.sort_values(ascending=False)\n",
        "distancias_unicas.reset_index(drop=True, inplace=True)\n",
        "distancias_unicas.index = distancias_unicas.index + 1\n",
        "print(distancias_unicas.head(10))\n",
        "\n",
        "# Vuelos más atrasados\n",
        "\n",
        "print('\\nAtrasos máximos (en minutos):\\n')\n",
        "atrasos = df[['ArrDelay', 'UniqueCarrier', 'DayofMonth', 'Month', 'DayOfWeek']].sort_values(by='ArrDelay', ascending=False).head(20)\n",
        "atrasos.reset_index(drop=True, inplace=True)\n",
        "atrasos.index = atrasos.index + 1\n",
        "print(atrasos)\n"
      ],
      "metadata": {
        "id": "JVwdNu6F8YAb"
      },
      "execution_count": null,
      "outputs": []
    },
    {
      "cell_type": "markdown",
      "source": [
        "Comprobamos como los 20 primeros vuelos con retrasos más largos se los reparten prácticamente todos entre tres aerolíneas: NW, AA y MQ, destacando en este caso NW negativamente.\n",
        "Las fechas no muestran ningún patrón aparente, ni en los días, meses o días de la semana."
      ],
      "metadata": {
        "id": "8NAfwnJjLTaZ"
      }
    },
    {
      "cell_type": "markdown",
      "source": [
        "EX03. Exporta el dataset net i amb les noves columnes a Excel"
      ],
      "metadata": {
        "id": "GaUcv_r0CtMU"
      }
    },
    {
      "cell_type": "code",
      "source": [
        "print('Dataset que se exporta:\\n')\n",
        "df.reset_index(drop=True, inplace=True)\n",
        "print(df.info())\n",
        "df.to_excel('DelayedFlightsAdjusted.xlsx')"
      ],
      "metadata": {
        "id": "o46EsVrQBb_j"
      },
      "execution_count": null,
      "outputs": []
    }
  ]
}